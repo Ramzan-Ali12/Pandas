{
 "cells": [
  {
   "cell_type": "markdown",
   "id": "45f2d2b1-9b85-4225-8c0b-0c17a8382435",
   "metadata": {},
   "source": [
    "#Pandas:"
   ]
  },
  {
   "cell_type": "markdown",
   "id": "a5c8f39a-7543-45fe-bfb6-74259fc0f303",
   "metadata": {},
   "source": [
    "Primary data analysis library in python\n",
    "pandas library provides a number of data analysis features,which made it one of the most popular data science tools.\n",
    "\n",
    "Pandas has two data structures.padndas serices and pandas DataFrame.\n",
    "\n",
    "A series is one-dimensional array-like object that provides us with many ways to index data.\n",
    "\n",
    "series acts like an ndarray,but it supports many data types,integers,strings,floating point numbers.\n",
    "\n",
    "A Dataframe is a 2-D elastic data structure that supports hetrogenous data with labled axis for rows and columns.\n",
    "Arithmetic operations can appear both row and column labels."
   ]
  },
  {
   "cell_type": "code",
   "execution_count": 2,
   "id": "da122b48-fab0-445f-b61a-b3e7e8f81b84",
   "metadata": {},
   "outputs": [],
   "source": [
    "import pandas as pd"
   ]
  },
  {
   "cell_type": "code",
   "execution_count": 6,
   "id": "f33f8367-470a-4c80-9db0-a2880ab5494a",
   "metadata": {},
   "outputs": [],
   "source": [
    "ser=pd.Series(data=[100,200,500,600,700],index=['tom','sam','ash','Rai','bush']);"
   ]
  },
  {
   "cell_type": "code",
   "execution_count": 7,
   "id": "3fb97ef6-315c-4b46-a2e9-89cfbbb3a0a6",
   "metadata": {},
   "outputs": [
    {
     "data": {
      "text/plain": [
       "tom     100\n",
       "sam     200\n",
       "ash     500\n",
       "Rai     600\n",
       "bush    700\n",
       "dtype: int64"
      ]
     },
     "execution_count": 7,
     "metadata": {},
     "output_type": "execute_result"
    }
   ],
   "source": [
    "ser"
   ]
  },
  {
   "cell_type": "code",
   "execution_count": 10,
   "id": "1c439e22-183e-47e0-b75a-c24e3169f40f",
   "metadata": {},
   "outputs": [],
   "source": [
    "#If we delete the word data and index but get some output(as pandas know how to resolve 2 arrays in series)\n",
    "ser=pd.Series([100,'book',500,600,700],['tom','sam','ash','Rai','bush']);"
   ]
  },
  {
   "cell_type": "code",
   "execution_count": 11,
   "id": "cdaf77bb-7236-4f67-a4db-cbbe57d5980d",
   "metadata": {},
   "outputs": [
    {
     "data": {
      "text/plain": [
       "tom      100\n",
       "sam     book\n",
       "ash      500\n",
       "Rai      600\n",
       "bush     700\n",
       "dtype: object"
      ]
     },
     "execution_count": 11,
     "metadata": {},
     "output_type": "execute_result"
    }
   ],
   "source": [
    "ser"
   ]
  },
  {
   "cell_type": "code",
   "execution_count": 12,
   "id": "f2827aee-f29a-4517-83c3-6383cfbe9842",
   "metadata": {},
   "outputs": [],
   "source": [
    "#Data types can be hetrogenous\n",
    "ser=pd.Series(data=[100,'book','pen',600,700],index=[200,'sam','ash','Rai','bush']);"
   ]
  },
  {
   "cell_type": "code",
   "execution_count": 13,
   "id": "f76d078a-71d5-43f7-8342-18453985b967",
   "metadata": {},
   "outputs": [
    {
     "data": {
      "text/plain": [
       "200      100\n",
       "sam     book\n",
       "ash      pen\n",
       "Rai      600\n",
       "bush     700\n",
       "dtype: object"
      ]
     },
     "execution_count": 13,
     "metadata": {},
     "output_type": "execute_result"
    }
   ],
   "source": [
    "ser"
   ]
  },
  {
   "cell_type": "code",
   "execution_count": 15,
   "id": "70d8fbf0-c91c-4a88-ab84-3ea95b5f7a9a",
   "metadata": {},
   "outputs": [
    {
     "data": {
      "text/plain": [
       "Index([200, 'sam', 'ash', 'Rai', 'bush'], dtype='object')"
      ]
     },
     "execution_count": 15,
     "metadata": {},
     "output_type": "execute_result"
    }
   ],
   "source": [
    "#If we forget index\n",
    "ser.index"
   ]
  },
  {
   "cell_type": "code",
   "execution_count": 16,
   "id": "0678cd2d-79cc-4e7e-9d1c-028d9c246416",
   "metadata": {},
   "outputs": [
    {
     "data": {
      "text/plain": [
       "600"
      ]
     },
     "execution_count": 16,
     "metadata": {},
     "output_type": "execute_result"
    }
   ],
   "source": [
    "#To find a particular data of an index\n",
    "ser['Rai']"
   ]
  },
  {
   "cell_type": "code",
   "execution_count": 17,
   "id": "c0818afd-4d98-4716-bf44-26749c92947e",
   "metadata": {},
   "outputs": [
    {
     "data": {
      "text/plain": [
       "600"
      ]
     },
     "execution_count": 17,
     "metadata": {},
     "output_type": "execute_result"
    }
   ],
   "source": [
    "#Same output using Loc function\n",
    "ser.loc['Rai']"
   ]
  },
  {
   "cell_type": "code",
   "execution_count": 19,
   "id": "774be739-8ac1-43e3-95d8-36d6721cc005",
   "metadata": {},
   "outputs": [
    {
     "data": {
      "text/plain": [
       "Rai     600\n",
       "bush    700\n",
       "dtype: object"
      ]
     },
     "execution_count": 19,
     "metadata": {},
     "output_type": "execute_result"
    }
   ],
   "source": [
    "ser.loc[['Rai','bush']]"
   ]
  },
  {
   "cell_type": "code",
   "execution_count": 25,
   "id": "e1aab374-924e-4547-a2b5-23b254734698",
   "metadata": {},
   "outputs": [
    {
     "data": {
      "text/plain": [
       "200      100\n",
       "sam     book\n",
       "ash      pen\n",
       "Rai      600\n",
       "bush     700\n",
       "dtype: object"
      ]
     },
     "execution_count": 25,
     "metadata": {},
     "output_type": "execute_result"
    }
   ],
   "source": [
    "ser"
   ]
  },
  {
   "cell_type": "code",
   "execution_count": 29,
   "id": "f36b1c2b-7be1-4bf5-83cd-3322f456ab45",
   "metadata": {},
   "outputs": [
    {
     "data": {
      "text/plain": [
       "Rai     600\n",
       "bush    700\n",
       "dtype: object"
      ]
     },
     "execution_count": 29,
     "metadata": {},
     "output_type": "execute_result"
    }
   ],
   "source": [
    "#use a numeric indices.series indices also start by zero\n",
    "ser.iloc[[3,4]]"
   ]
  },
  {
   "cell_type": "code",
   "execution_count": 33,
   "id": "51c79840-26b9-4664-9289-ea1069ab471c",
   "metadata": {},
   "outputs": [
    {
     "data": {
      "text/plain": [
       "True"
      ]
     },
     "execution_count": 33,
     "metadata": {},
     "output_type": "execute_result"
    }
   ],
   "source": [
    "'bush' in ser"
   ]
  },
  {
   "cell_type": "code",
   "execution_count": 32,
   "id": "01a4e945-1567-418c-b35b-55ddbfc0abfa",
   "metadata": {},
   "outputs": [
    {
     "data": {
      "text/plain": [
       "False"
      ]
     },
     "execution_count": 32,
     "metadata": {},
     "output_type": "execute_result"
    }
   ],
   "source": [
    "'Ramzan' in ser"
   ]
  },
  {
   "cell_type": "code",
   "execution_count": 34,
   "id": "40b1698f-8689-4703-bf6c-6578598727f5",
   "metadata": {},
   "outputs": [
    {
     "data": {
      "text/plain": [
       "200      100\n",
       "sam     book\n",
       "ash      pen\n",
       "Rai      600\n",
       "bush     700\n",
       "dtype: object"
      ]
     },
     "execution_count": 34,
     "metadata": {},
     "output_type": "execute_result"
    }
   ],
   "source": [
    "ser"
   ]
  },
  {
   "cell_type": "code",
   "execution_count": 35,
   "id": "c649d941-b3f3-452e-9520-3a6c2844840f",
   "metadata": {},
   "outputs": [
    {
     "data": {
      "text/plain": [
       "200              300\n",
       "sam     bookbookbook\n",
       "ash        penpenpen\n",
       "Rai             1800\n",
       "bush            2100\n",
       "dtype: object"
      ]
     },
     "execution_count": 35,
     "metadata": {},
     "output_type": "execute_result"
    }
   ],
   "source": [
    "ser*3"
   ]
  },
  {
   "cell_type": "code",
   "execution_count": 36,
   "id": "b5ed6b9a-2941-4d7f-9a4f-490621b69f77",
   "metadata": {},
   "outputs": [
    {
     "data": {
      "text/plain": [
       "Rai     360000\n",
       "bush    490000\n",
       "dtype: object"
      ]
     },
     "execution_count": 36,
     "metadata": {},
     "output_type": "execute_result"
    }
   ],
   "source": [
    "#Squre values\n",
    "ser[['Rai','bush']]**2"
   ]
  },
  {
   "cell_type": "code",
   "execution_count": null,
   "id": "fde1036a-e903-4674-90c0-44fe0dbb6620",
   "metadata": {},
   "outputs": [],
   "source": []
  }
 ],
 "metadata": {
  "kernelspec": {
   "display_name": "Python 3 (ipykernel)",
   "language": "python",
   "name": "python3"
  },
  "language_info": {
   "codemirror_mode": {
    "name": "ipython",
    "version": 3
   },
   "file_extension": ".py",
   "mimetype": "text/x-python",
   "name": "python",
   "nbconvert_exporter": "python",
   "pygments_lexer": "ipython3",
   "version": "3.9.4"
  }
 },
 "nbformat": 4,
 "nbformat_minor": 5
}
